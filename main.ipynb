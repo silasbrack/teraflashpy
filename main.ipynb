{
 "cells": [
  {
   "cell_type": "markdown",
   "metadata": {},
   "source": [
    "# With Software Running"
   ]
  },
  {
   "cell_type": "code",
   "execution_count": null,
   "metadata": {},
   "outputs": [],
   "source": [
    "import socket\n",
    "\n",
    "import numpy as np\n",
    "from teraflashpy import ACQUISITION_PORT_MAP, LOCALHOST, AcquisitionMode, PulseData\n",
    "\n",
    "acquisition_mode = AcquisitionMode.Synchronous"
   ]
  },
  {
   "cell_type": "code",
   "execution_count": null,
   "metadata": {},
   "outputs": [],
   "source": [
    "teraflash_server_port = ACQUISITION_PORT_MAP[acquisition_mode]\n",
    "client = socket.socket(socket.AF_INET, socket.SOCK_STREAM)\n",
    "client.connect((LOCALHOST, teraflash_server_port))\n",
    "\n",
    "length_data = client.recv(6)\n",
    "pulsedata = client.recv(int(length_data.decode(\"utf-8\")))\n",
    "client.close()\n",
    "\n",
    "pulsedata = pulsedata.decode(\"utf-8\").split(\"\\r\\n\")\n",
    "header = pulsedata.pop(0)\n",
    "time = np.zeros(len(pulsedata) - 1, dtype=float)\n",
    "magnitude = np.zeros(len(pulsedata) - 1, dtype=float)\n",
    "for x in range(len(pulsedata) - 1):\n",
    "    time[x] = float(pulsedata[x].split(\",\")[0])\n",
    "    magnitude[x] = float(pulsedata[x].split(\",\")[1])\n"
   ]
  },
  {
   "cell_type": "code",
   "execution_count": null,
   "metadata": {},
   "outputs": [],
   "source": [
    "import matplotlib.pyplot as plt\n",
    "\n",
    "fig, ax = plt.subplots()\n",
    "ax.plot(time, magnitude)"
   ]
  },
  {
   "cell_type": "markdown",
   "metadata": {},
   "source": [
    "# Controlling Via Python"
   ]
  },
  {
   "cell_type": "code",
   "execution_count": null,
   "metadata": {},
   "outputs": [],
   "source": [
    "import socket\n",
    "\n",
    "from teraflashpy import LOCALHOST"
   ]
  },
  {
   "cell_type": "code",
   "execution_count": null,
   "metadata": {},
   "outputs": [],
   "source": [
    "# client = socket.socket(socket.AF_INET, socket.SOCK_STREAM)\n",
    "# client.connect((\"169.254.84.101\", 6341))"
   ]
  },
  {
   "cell_type": "code",
   "execution_count": null,
   "metadata": {},
   "outputs": [],
   "source": [
    "s = socket.socket(socket.AF_INET, socket.SOCK_STREAM)\n",
    "s.bind((\"169.254.84.101\", 6341))\n",
    "# s.setsockopt(socket.SOL_SOCKET, socket.SO_REUSEADDR, 1)\n",
    "s.listen()\n",
    "conn, addr = s.accept()"
   ]
  },
  {
   "cell_type": "code",
   "execution_count": null,
   "metadata": {},
   "outputs": [],
   "source": [
    "conn.recv(4)"
   ]
  },
  {
   "cell_type": "code",
   "execution_count": null,
   "metadata": {},
   "outputs": [],
   "source": [
    "command = b\"SYSTEM : TELL STATUS\"\n",
    "content = (\n",
    "    bytes.fromhex(\"CDEF1234\")\n",
    "    + bytes.fromhex(\"789AFEDC\")\n",
    "    + bytes.fromhex(\"00000002\")\n",
    "    + bytes.fromhex(\"00000002\")\n",
    "    + len(command).to_bytes(4, \"little\", signed=False)\n",
    "    + command\n",
    ")"
   ]
  },
  {
   "cell_type": "code",
   "execution_count": null,
   "metadata": {},
   "outputs": [],
   "source": [
    "conn.sendall(content)"
   ]
  },
  {
   "cell_type": "code",
   "execution_count": null,
   "metadata": {},
   "outputs": [],
   "source": [
    "out = conn.recv(4 * 32)\n",
    "out"
   ]
  },
  {
   "cell_type": "code",
   "execution_count": null,
   "metadata": {},
   "outputs": [],
   "source": [
    "# conn.sendall(bytes.fromhex(\"CDEF1234\"))\n",
    "# conn.sendall(bytes.fromhex(\"789AFEDC\"))\n",
    "# conn.sendall(bytes.fromhex(\"00000002\"))\n",
    "# conn.sendall(bytes.fromhex(\"00000002\"))\n",
    "# command = b\"SYSTEM : TELL STATUS\"\n",
    "# conn.sendall(len(command).to_bytes(4, \"little\", signed=False))\n",
    "# conn.sendall(command)"
   ]
  },
  {
   "cell_type": "code",
   "execution_count": null,
   "metadata": {},
   "outputs": [],
   "source": [
    "conn.close()"
   ]
  },
  {
   "cell_type": "code",
   "execution_count": null,
   "metadata": {},
   "outputs": [],
   "source": []
  },
  {
   "cell_type": "code",
   "execution_count": null,
   "metadata": {},
   "outputs": [],
   "source": []
  },
  {
   "cell_type": "code",
   "execution_count": null,
   "metadata": {},
   "outputs": [],
   "source": []
  },
  {
   "cell_type": "code",
   "execution_count": null,
   "metadata": {},
   "outputs": [],
   "source": [
    "write_client = socket.socket(socket.AF_INET, socket.SOCK_DGRAM)\n",
    "write_client.connect((LOCALHOST, 61234))\n",
    "# write_client.connect((LOCALHOST, 61237))"
   ]
  },
  {
   "cell_type": "code",
   "execution_count": null,
   "metadata": {},
   "outputs": [],
   "source": [
    "read_client = socket.socket(socket.AF_INET, socket.SOCK_DGRAM)\n",
    "read_client.connect((LOCALHOST, 61235))"
   ]
  },
  {
   "cell_type": "code",
   "execution_count": null,
   "metadata": {},
   "outputs": [],
   "source": [
    "send_output = write_client.send(b\"RC-LASER : ON\")\n",
    "print(send_output)"
   ]
  },
  {
   "cell_type": "code",
   "execution_count": null,
   "metadata": {},
   "outputs": [],
   "source": [
    "asdf = read_client.recv(send_output)"
   ]
  },
  {
   "cell_type": "code",
   "execution_count": null,
   "metadata": {},
   "outputs": [],
   "source": [
    "asdf"
   ]
  },
  {
   "cell_type": "code",
   "execution_count": null,
   "metadata": {},
   "outputs": [],
   "source": [
    "client.close()"
   ]
  },
  {
   "cell_type": "code",
   "execution_count": null,
   "metadata": {},
   "outputs": [],
   "source": []
  }
 ],
 "metadata": {
  "kernelspec": {
   "display_name": ".venv",
   "language": "python",
   "name": "python3"
  },
  "language_info": {
   "codemirror_mode": {
    "name": "ipython",
    "version": 3
   },
   "file_extension": ".py",
   "mimetype": "text/x-python",
   "name": "python",
   "nbconvert_exporter": "python",
   "pygments_lexer": "ipython3",
   "version": "3.10.7"
  }
 },
 "nbformat": 4,
 "nbformat_minor": 2
}
